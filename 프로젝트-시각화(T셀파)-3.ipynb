{
 "cells": [
  {
   "cell_type": "code",
   "execution_count": 1,
   "id": "12533230",
   "metadata": {},
   "outputs": [],
   "source": [
    "import pandas as pd\n",
    "import numpy as np \n",
    "import matplotlib.pyplot as plt\n",
    "\n",
    "plt.rcParams['font.family'] = 'NanumGothic'\n",
    "font_path = \"./NanumGothic.ttf\"\n",
    "\n",
    "from nltk.corpus import stopwords\n",
    "from nltk.tokenize import word_tokenize \n",
    "from konlpy.tag import Okt\n",
    "from wordcloud import WordCloud"
   ]
  },
  {
   "cell_type": "code",
   "execution_count": 2,
   "id": "7ac45533",
   "metadata": {},
   "outputs": [],
   "source": [
    "import re\n",
    "import nltk\n",
    "from sklearn.feature_extraction.text import CountVectorizer\n",
    "from wordcloud import WordCloud"
   ]
  },
  {
   "cell_type": "code",
   "execution_count": null,
   "id": "b91ceefb",
   "metadata": {},
   "outputs": [],
   "source": [
    "data = pd.read_csv('./t_data_2023_2022.csv') \n",
    "#-- 본인 환경에 맞게 설치 경로 변경할 것\n",
    "df_data = pd.DataFrame(data)\n",
    "df_data.head(10)"
   ]
  },
  {
   "cell_type": "code",
   "execution_count": 4,
   "id": "a5613577",
   "metadata": {},
   "outputs": [],
   "source": [
    "## 리뷰 데이터 탐색"
   ]
  },
  {
   "cell_type": "code",
   "execution_count": null,
   "id": "c6e3ee9e",
   "metadata": {},
   "outputs": [],
   "source": [
    "df_data.info()\n",
    "\n",
    "# 코멘트가 없는 리뷰 데이터(NaN) 제거\n",
    "df_reviews = df_data.dropna()\n",
    "\n",
    "# 중복 리뷰 제거\n",
    "df_reviews = df_reviews.drop_duplicates(['내용'])\n",
    "\n",
    "df_reviews.info()\n",
    "df_reviews.head(10)\n",
    "\n",
    "# 연수명 리스트 확인\n",
    "연수명_list = df_reviews.연수명.unique()\n",
    "\n",
    "print('연수명_list =', len(연수명_list))\n",
    "print(연수명_list[:10])"
   ]
  },
  {
   "cell_type": "code",
   "execution_count": 6,
   "id": "07df0ff5",
   "metadata": {},
   "outputs": [],
   "source": [
    "df_reviews = df_reviews['내용']"
   ]
  },
  {
   "cell_type": "code",
   "execution_count": 7,
   "id": "7a2c507f",
   "metadata": {},
   "outputs": [],
   "source": [
    "df_reviews = df_reviews.sample(1000) # 1000개 샘플링 "
   ]
  },
  {
   "cell_type": "code",
   "execution_count": 8,
   "id": "a29d84f3",
   "metadata": {},
   "outputs": [],
   "source": [
    "df_reviews.reset_index(drop=True, inplace=True)"
   ]
  },
  {
   "cell_type": "code",
   "execution_count": null,
   "id": "900e59bd",
   "metadata": {},
   "outputs": [],
   "source": [
    "df_reviews"
   ]
  },
  {
   "cell_type": "code",
   "execution_count": null,
   "id": "271b34d9",
   "metadata": {},
   "outputs": [],
   "source": [
    "df_reviews[0]+df_reviews[1]"
   ]
  },
  {
   "cell_type": "code",
   "execution_count": 11,
   "id": "9946aaf9",
   "metadata": {},
   "outputs": [],
   "source": [
    "reviews = \"\""
   ]
  },
  {
   "cell_type": "code",
   "execution_count": null,
   "id": "a2a42bd1",
   "metadata": {},
   "outputs": [],
   "source": []
  },
  {
   "cell_type": "code",
   "execution_count": 12,
   "id": "29fd1b4d",
   "metadata": {},
   "outputs": [],
   "source": [
    "# 1000개의 리뷰 문장을 하나의 리뷰로 합치기 \n",
    "\n",
    "for i in range(len(df_reviews)):\n",
    "    reviews += df_reviews[i]"
   ]
  },
  {
   "cell_type": "code",
   "execution_count": 68,
   "id": "721efdcb",
   "metadata": {},
   "outputs": [],
   "source": [
    "def apply_regular_expression(내용):\n",
    "    hangul = re.compile('[^ ㄱ-ㅣ 가-힣]')  # 한글 추출 규칙: 띄어 쓰기(1 개)를 포함한 한글\n",
    "    result = hangul.sub('', 내용)  # 위에 설정한 \"hangul\"규칙을 \"text\"에 적용(.sub)시킴\n",
    "    return result"
   ]
  },
  {
   "cell_type": "code",
   "execution_count": null,
   "id": "8a1838c1",
   "metadata": {},
   "outputs": [],
   "source": [
    "# 한글과 띄어쓰기를 제외한 문자 삭제 적용\n",
    "\n",
    "reviews = apply_regular_expression(reviews)\n",
    "reviews"
   ]
  },
  {
   "cell_type": "code",
   "execution_count": null,
   "id": "80bb6bd3",
   "metadata": {},
   "outputs": [],
   "source": [
    "# 명사 형태소 추출 \n",
    "okt = Okt()\n",
    "nouns = okt.nouns(apply_regular_expression(reviews))\n",
    "nouns"
   ]
  },
  {
   "cell_type": "code",
   "execution_count": null,
   "id": "6c3a6691",
   "metadata": {},
   "outputs": [],
   "source": [
    "# 명사 형태소 개수 확인 \n",
    "from collections import Counter\n",
    "counter = Counter(nouns)\n",
    "counter"
   ]
  },
  {
   "cell_type": "code",
   "execution_count": 17,
   "id": "45613d77",
   "metadata": {},
   "outputs": [],
   "source": [
    "available_word = []"
   ]
  },
  {
   "cell_type": "code",
   "execution_count": 18,
   "id": "5315c4a8",
   "metadata": {},
   "outputs": [],
   "source": [
    "# 한글자 명사 제거 \n",
    "\n",
    "for i in nouns:\n",
    "    if len(i) > 1:\n",
    "        available_word.append(i)"
   ]
  },
  {
   "cell_type": "code",
   "execution_count": 19,
   "id": "be7b82cc",
   "metadata": {},
   "outputs": [],
   "source": [
    "# 불용어 삭제\n",
    "# 불용어 사전 불러오기 (https://www.ranks.nl/)\n",
    "\n",
    "stopwords = pd.read_csv(\"https://raw.githubusercontent.com/yoonkt200/FastCampusDataset/master/korean_stopwords.txt\").values.tolist()"
   ]
  },
  {
   "cell_type": "code",
   "execution_count": 20,
   "id": "55d5b1e4",
   "metadata": {},
   "outputs": [],
   "source": [
    "# 이외에 의미 없는 단어를 불용어에 추가 \n",
    "\n",
    "tsherpa_stopwords = ['연수', '수업', '생각', '강의', '시간', '학생', '선생님', '내용', '활용',\n",
    "                    '과학', '영어', '교사', '활동', '티셀파', '이야기', '아이', '대해', '통해', '대한', '부분']"
   ]
  },
  {
   "cell_type": "code",
   "execution_count": 21,
   "id": "fdb7ff7b",
   "metadata": {},
   "outputs": [],
   "source": [
    "for word in tsherpa_stopwords:\n",
    "    stopwords.append(word)"
   ]
  },
  {
   "cell_type": "code",
   "execution_count": 22,
   "id": "f09b4e12",
   "metadata": {},
   "outputs": [],
   "source": [
    "clean_words = [] "
   ]
  },
  {
   "cell_type": "code",
   "execution_count": 23,
   "id": "0a59f75e",
   "metadata": {},
   "outputs": [],
   "source": [
    "for i in available_word:\n",
    "    if i not in stopwords:\n",
    "        clean_words.append(i)"
   ]
  },
  {
   "cell_type": "code",
   "execution_count": null,
   "id": "99cc2c05",
   "metadata": {},
   "outputs": [],
   "source": [
    "clean_words"
   ]
  },
  {
   "cell_type": "code",
   "execution_count": null,
   "id": "5ea0a471",
   "metadata": {},
   "outputs": [],
   "source": [
    "pos_word_count = Counter(clean_words)\n",
    "pos_word_count"
   ]
  },
  {
   "cell_type": "code",
   "execution_count": 56,
   "id": "2dc2512f",
   "metadata": {},
   "outputs": [
    {
     "data": {
      "text/plain": [
       "collections.Counter"
      ]
     },
     "execution_count": 56,
     "metadata": {},
     "output_type": "execute_result"
    }
   ],
   "source": [
    "type(pos_word_count)"
   ]
  },
  {
   "cell_type": "code",
   "execution_count": null,
   "id": "3eb94835",
   "metadata": {},
   "outputs": [],
   "source": [
    "pos_word_count = pd.DataFrame({'words':pos_word_count})"
   ]
  },
  {
   "cell_type": "code",
   "execution_count": null,
   "id": "507528db",
   "metadata": {},
   "outputs": [],
   "source": [
    "pos_word_count"
   ]
  },
  {
   "cell_type": "code",
   "execution_count": null,
   "id": "949a6997",
   "metadata": {},
   "outputs": [],
   "source": [
    "max = 20\n",
    "word_top_20 = {}\n",
    "for word, counts in pos_word_count.most_common(20):\n",
    "    word_top_20[word] = counts\n",
    "    print(f'{word} : {counts}')"
   ]
  },
  {
   "cell_type": "code",
   "execution_count": null,
   "id": "3f9fded9",
   "metadata": {},
   "outputs": [],
   "source": [
    "plt.figure(figsize=(10, 5))\n",
    "plt.title('티셀파 리뷰의 단어 상위 (%d개)' % max, fontsize=17)    \n",
    "plt.ylabel('단어의 빈도수')    \n",
    "plt.xticks(rotation=70)\n",
    "for key, value in word_top_20.items():\n",
    "    if key == '연수': continue\n",
    "    plt.bar(key, value, color='lightgrey') \n",
    "plt.show()"
   ]
  },
  {
   "cell_type": "code",
   "execution_count": null,
   "id": "a3d901a8",
   "metadata": {},
   "outputs": [],
   "source": [
    "from wordcloud import WordCloud\n",
    "wc = WordCloud(font_path, background_color='ivory', width=800, height=600)\n",
    "cloud = wc.generate_from_frequencies(pos_word_count)\n",
    "plt.figure(figsize=(8,8))\n",
    "plt.imshow(cloud)\n",
    "plt.axis('off')\n",
    "plt.show()"
   ]
  },
  {
   "cell_type": "code",
   "execution_count": 29,
   "id": "f4492306",
   "metadata": {},
   "outputs": [],
   "source": [
    "import json\n",
    "import pandas as pd\n",
    "\n",
    "with open('data/SentiWord_info.json', encoding='utf-8-sig', mode='r') as f: \n",
    "    SentiWord_info = json.load(f)\n",
    "\n",
    "sentiword_dic = pd.DataFrame(SentiWord_info)"
   ]
  },
  {
   "cell_type": "code",
   "execution_count": 30,
   "id": "1fdd8694",
   "metadata": {},
   "outputs": [],
   "source": [
    "# 유일값 저장\n",
    "words_unique = list(set(clean_words))"
   ]
  },
  {
   "cell_type": "code",
   "execution_count": 31,
   "id": "e0f7f27a",
   "metadata": {},
   "outputs": [],
   "source": [
    "df = pd.DataFrame(columns=(\"words\", \"sentiment\"))"
   ]
  },
  {
   "cell_type": "code",
   "execution_count": null,
   "id": "9b1694ce",
   "metadata": {},
   "outputs": [],
   "source": [
    "sentiword_dic"
   ]
  },
  {
   "cell_type": "code",
   "execution_count": 33,
   "id": "a3cda92c",
   "metadata": {},
   "outputs": [
    {
     "data": {
      "text/plain": [
       "array(['1', '-1', '0', '-2', '2'], dtype=object)"
      ]
     },
     "execution_count": 33,
     "metadata": {},
     "output_type": "execute_result"
    }
   ],
   "source": [
    "sentiword_dic['polarity'].unique()"
   ]
  },
  {
   "cell_type": "code",
   "execution_count": 34,
   "id": "bc994872",
   "metadata": {},
   "outputs": [
    {
     "data": {
      "text/plain": [
       "2480"
      ]
     },
     "execution_count": 34,
     "metadata": {},
     "output_type": "execute_result"
    }
   ],
   "source": [
    "len(words_unique)"
   ]
  },
  {
   "cell_type": "code",
   "execution_count": null,
   "id": "f704ece9",
   "metadata": {},
   "outputs": [],
   "source": [
    "words_unique"
   ]
  },
  {
   "cell_type": "code",
   "execution_count": 36,
   "id": "36b4c831",
   "metadata": {},
   "outputs": [],
   "source": [
    "idx = 0                                             \n",
    " \n",
    "for token in words_unique:\n",
    "    sentiment = 0\n",
    "    for i in range(0, len(sentiword_dic)):\n",
    "        if sentiword_dic['word'][i] in token:\n",
    "            sentiment = int(sentiword_dic['polarity'][i])\n",
    "            df.loc[idx] = [token, sentiment]\n",
    "            idx += 1"
   ]
  },
  {
   "cell_type": "code",
   "execution_count": null,
   "id": "bcdb153b",
   "metadata": {},
   "outputs": [],
   "source": [
    "df"
   ]
  },
  {
   "cell_type": "code",
   "execution_count": 38,
   "id": "46c25050",
   "metadata": {},
   "outputs": [
    {
     "data": {
      "text/plain": [
       "346"
      ]
     },
     "execution_count": 38,
     "metadata": {},
     "output_type": "execute_result"
    }
   ],
   "source": [
    "len(df['words'].unique())"
   ]
  },
  {
   "cell_type": "code",
   "execution_count": 39,
   "id": "6e7ba495",
   "metadata": {},
   "outputs": [],
   "source": [
    "n_df = df[df.sentiment < 0]"
   ]
  },
  {
   "cell_type": "code",
   "execution_count": 40,
   "id": "1f916f3c",
   "metadata": {},
   "outputs": [],
   "source": [
    "p_df = df[df.sentiment > 0]"
   ]
  },
  {
   "cell_type": "code",
   "execution_count": null,
   "id": "7a77745e",
   "metadata": {},
   "outputs": [],
   "source": [
    "n_df"
   ]
  },
  {
   "cell_type": "code",
   "execution_count": 42,
   "id": "9c62c496",
   "metadata": {},
   "outputs": [
    {
     "name": "stderr",
     "output_type": "stream",
     "text": [
      "C:\\Users\\big-03-06\\AppData\\Local\\Temp\\ipykernel_5868\\4007999875.py:1: SettingWithCopyWarning: \n",
      "A value is trying to be set on a copy of a slice from a DataFrame\n",
      "\n",
      "See the caveats in the documentation: https://pandas.pydata.org/pandas-docs/stable/user_guide/indexing.html#returning-a-view-versus-a-copy\n",
      "  n_df.rename(columns={'words':'n_words'}, inplace=True)\n"
     ]
    }
   ],
   "source": [
    "n_df.rename(columns={'words':'n_words'}, inplace=True)"
   ]
  },
  {
   "cell_type": "code",
   "execution_count": 43,
   "id": "f6ab7548",
   "metadata": {},
   "outputs": [
    {
     "name": "stderr",
     "output_type": "stream",
     "text": [
      "C:\\Users\\big-03-06\\AppData\\Local\\Temp\\ipykernel_5868\\1205544233.py:1: SettingWithCopyWarning: \n",
      "A value is trying to be set on a copy of a slice from a DataFrame\n",
      "\n",
      "See the caveats in the documentation: https://pandas.pydata.org/pandas-docs/stable/user_guide/indexing.html#returning-a-view-versus-a-copy\n",
      "  n_df.rename(columns={'sentiment':'n_sentiment'}, inplace=True)\n"
     ]
    }
   ],
   "source": [
    "n_df.rename(columns={'sentiment':'n_sentiment'}, inplace=True)"
   ]
  },
  {
   "cell_type": "code",
   "execution_count": null,
   "id": "4b30b283",
   "metadata": {},
   "outputs": [],
   "source": [
    "n_df"
   ]
  },
  {
   "cell_type": "code",
   "execution_count": 45,
   "id": "83f8047e",
   "metadata": {},
   "outputs": [
    {
     "name": "stderr",
     "output_type": "stream",
     "text": [
      "C:\\Users\\big-03-06\\AppData\\Local\\Temp\\ipykernel_5868\\546460829.py:1: SettingWithCopyWarning: \n",
      "A value is trying to be set on a copy of a slice from a DataFrame\n",
      "\n",
      "See the caveats in the documentation: https://pandas.pydata.org/pandas-docs/stable/user_guide/indexing.html#returning-a-view-versus-a-copy\n",
      "  p_df.rename(columns={'words':'p_words'}, inplace=True)\n"
     ]
    }
   ],
   "source": [
    "p_df.rename(columns={'words':'p_words'}, inplace=True)"
   ]
  },
  {
   "cell_type": "code",
   "execution_count": 46,
   "id": "e48863bd",
   "metadata": {},
   "outputs": [
    {
     "name": "stderr",
     "output_type": "stream",
     "text": [
      "C:\\Users\\big-03-06\\AppData\\Local\\Temp\\ipykernel_5868\\265111265.py:1: SettingWithCopyWarning: \n",
      "A value is trying to be set on a copy of a slice from a DataFrame\n",
      "\n",
      "See the caveats in the documentation: https://pandas.pydata.org/pandas-docs/stable/user_guide/indexing.html#returning-a-view-versus-a-copy\n",
      "  p_df.rename(columns={'sentiment':'p_sentiment'}, inplace=True)\n"
     ]
    }
   ],
   "source": [
    "p_df.rename(columns={'sentiment':'p_sentiment'}, inplace=True)"
   ]
  },
  {
   "cell_type": "code",
   "execution_count": null,
   "id": "6823bb40",
   "metadata": {},
   "outputs": [],
   "source": [
    "p_df"
   ]
  },
  {
   "cell_type": "code",
   "execution_count": 62,
   "id": "4ffa8978",
   "metadata": {},
   "outputs": [],
   "source": [
    "r_df=pd.concat([pos_word_count, p_df, n_df], axis=1)"
   ]
  },
  {
   "cell_type": "code",
   "execution_count": null,
   "id": "8631fe96",
   "metadata": {},
   "outputs": [],
   "source": [
    "r_df"
   ]
  },
  {
   "cell_type": "code",
   "execution_count": null,
   "id": "460a8d91",
   "metadata": {},
   "outputs": [],
   "source": [
    "plt.figure(figsize=(12,5))\n",
    "X=[0,1]\n",
    "plt.title('긍정과 부정 리뷰수' , fontsize=20)\n",
    "\n",
    "plt.ylabel('리뷰수(개)' , fontsize=15)\n",
    "plt.xlabel('T셀파' , fontsize=15)\n",
    "\n",
    "\n",
    "r_df['p_sentiment'].value_counts().plot.bar(color = ['lightblue', 'tomato'])\n",
    "ticklabel=['긍정 리뷰수','부정 리뷰수']\n",
    "\n",
    "plt.xticks(X, ticklabel)\n",
    "\n",
    "plt.show()"
   ]
  },
  {
   "cell_type": "code",
   "execution_count": null,
   "id": "008e5c9e",
   "metadata": {},
   "outputs": [],
   "source": [
    "plt.figure(figsize=(7,7))\n",
    "\n",
    "plt.title('T셀파의 긍정과 부정 비율' , fontsize=20)\n",
    "\n",
    "plt.ylabel('words' , fontsize=15)\n",
    "\n",
    "r_df['p_sentiment'].value_counts().plot.pie(autopct = '%.2f%%' , \n",
    "                                         colors = ['lightblue', 'tomato'] ,\n",
    "                                          labels = ['긍정', '부정'],\n",
    "                                         textprops = {'fontsize' : 12 , \n",
    "                                                      'weight' : 'bold'})\n",
    "\n",
    "plt.show()"
   ]
  }
 ],
 "metadata": {
  "kernelspec": {
   "display_name": "Python 3 (ipykernel)",
   "language": "python",
   "name": "python3"
  },
  "language_info": {
   "codemirror_mode": {
    "name": "ipython",
    "version": 3
   },
   "file_extension": ".py",
   "mimetype": "text/x-python",
   "name": "python",
   "nbconvert_exporter": "python",
   "pygments_lexer": "ipython3",
   "version": "3.10.9"
  }
 },
 "nbformat": 4,
 "nbformat_minor": 5
}
